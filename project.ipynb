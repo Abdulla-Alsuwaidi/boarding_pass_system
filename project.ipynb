{
 "cells": [
  {
   "cell_type": "code",
   "execution_count": null,
   "metadata": {},
   "outputs": [],
   "source": [
    "class Customer:\n",
    "    def __init__(self, name, ticket_number):\n",
    "        self.name = name\n",
    "        self.ticket_number = ticket_number\n",
    "\n",
    "    def set_name(self, name):\n",
    "        self.name = name\n",
    "\n",
    "    def get_name(self):\n",
    "        return self.name\n",
    "\n",
    "    def set_ticket_number(self, ticket_number):\n",
    "        self.ticket_number = ticket_number\n",
    "\n",
    "    def get_ticket_number(self):\n",
    "        return self.ticket_number"
   ]
  },
  {
   "cell_type": "code",
   "execution_count": null,
   "metadata": {},
   "outputs": [],
   "source": [
    "class Seat:\n",
    "    def __init__(self, seat_number, seat_class):\n",
    "        self.seat_number = seat_number\n",
    "        self.seat_class = seat_class\n",
    "\n",
    "    def set_seat_number(self, seat_number):\n",
    "        self.seat_number = seat_number\n",
    "\n",
    "    def get_seat_number(self):\n",
    "        return self.seat_number\n",
    "\n",
    "    def set_seat_class(self, seat_class):\n",
    "        self.seat_class = seat_class\n",
    "\n",
    "    def get_seat_class(self):\n",
    "        return self.seat_class"
   ]
  }
 ],
 "metadata": {
  "language_info": {
   "name": "python"
  }
 },
 "nbformat": 4,
 "nbformat_minor": 2
}
