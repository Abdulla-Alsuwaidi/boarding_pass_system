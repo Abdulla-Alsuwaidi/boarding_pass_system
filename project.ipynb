{
 "cells": [
  {
   "cell_type": "markdown",
   "id": "8720d013",
   "metadata": {},
   "source": [
    "# <center><font color=blue>Boarding Pass Generation System</font></center>\n"
   ]
  },
  {
   "cell_type": "markdown",
   "id": "5435092a",
   "metadata": {},
   "source": [
    "# <font color=blue>Customer Class"
   ]
  },
  {
   "cell_type": "code",
   "execution_count": 1,
   "id": "e5bc7efc",
   "metadata": {},
   "outputs": [],
   "source": [
    "class Customer:\n",
    "    def __init__(self, name, ticket_number):\n",
    "        self.name = name\n",
    "        self.ticket_number = ticket_number\n",
    "\n",
    "    def set_name(self, name):\n",
    "        self.name = name\n",
    "\n",
    "    def get_name(self):\n",
    "        return self.name\n",
    "\n",
    "    def set_ticket_number(self, ticket_number):\n",
    "        self.ticket_number = ticket_number\n",
    "\n",
    "    def get_ticket_number(self):\n",
    "        return self.ticket_number"
   ]
  },
  {
   "cell_type": "markdown",
   "id": "58b7f353",
   "metadata": {},
   "source": [
    "# <font color=blue>Flight Class"
   ]
  },
  {
   "cell_type": "code",
   "execution_count": 2,
   "id": "bc05d2f2",
   "metadata": {},
   "outputs": [],
   "source": [
    "class Flight:\n",
    "    def __init__(self, flight_number, destination, departure_time, airline, departure_date):\n",
    "        self.flight_number = flight_number\n",
    "        self.destination = destination\n",
    "        self.departure_time = departure_time\n",
    "        self.airline = airline\n",
    "        self.departure_date = departure_date\n",
    "\n",
    "    def set_flight_number(self, flight_number):\n",
    "        self.flight_number = flight_number\n",
    "\n",
    "    def get_flight_number(self):\n",
    "        return self.flight_number\n",
    "\n",
    "    def set_destination(self, destination):\n",
    "        self.destination = destination\n",
    "\n",
    "    def get_destination(self):\n",
    "        return self.destination\n",
    "\n",
    "    def set_departure_time(self, departure_time):\n",
    "        self.departure_time = departure_time\n",
    "\n",
    "    def get_departure_time(self):\n",
    "        return self.departure_time\n",
    "   \n",
    "    def set_airline(self, airline):\n",
    "        self.airline = airline\n",
    "\n",
    "    def get_airline(self):\n",
    "        return self.airline\n",
    "   \n",
    "    def set_departure_date(self, departure_date):\n",
    "        self.departure_date = departure_date\n",
    "\n",
    "    def get_departure_date(self):\n",
    "        return self.departure_date\n",
    "   \n",
    "    # future method\n",
    "    def check_flight_status(self):\n",
    "        # function will check the current status of the flight like its On  time or Delayed or Cancelled.\n",
    "        pass  \n"
   ]
  },
  {
   "cell_type": "markdown",
   "id": "bf9b550c",
   "metadata": {},
   "source": [
    "# <font color=blue>Seat Class"
   ]
  },
  {
   "cell_type": "code",
   "execution_count": 3,
   "id": "3a0475ee",
   "metadata": {},
   "outputs": [],
   "source": [
    "class Seat:\n",
    "    def __init__(self, seat_number, seat_class):\n",
    "        self.seat_number = seat_number\n",
    "        self.seat_class = seat_class\n",
    "\n",
    "    def set_seat_number(self, seat_number):\n",
    "        self.seat_number = seat_number\n",
    "\n",
    "    def get_seat_number(self):\n",
    "        return self.seat_number\n",
    "\n",
    "    def set_seat_class(self, seat_class):\n",
    "        self.seat_class = seat_class\n",
    "\n",
    "    def get_seat_class(self):\n",
    "        return self.seat_class\n"
   ]
  },
  {
   "cell_type": "markdown",
   "id": "acad1473",
   "metadata": {},
   "source": [
    "# <font color=blue>BoardingPass Class"
   ]
  },
  {
   "cell_type": "code",
   "execution_count": 4,
   "id": "c4f3df23",
   "metadata": {},
   "outputs": [],
   "source": [
    "class BoardingPass:\n",
    "    def __init__(self, customer, flight, seat):\n",
    "        self.customer = customer\n",
    "        self.flight = flight\n",
    "        self.seat = seat\n",
    "\n",
    "    def display_boarding_pass_details(self):\n",
    "        return f\"Boarding Pass:\\n\\nCustomer:{self.customer.get_name()}\\nTicket Number: {self.customer.get_ticket_number()}\\nFlight\\t: {self.flight.get_flight_number()} \\nDestination: {self.flight.get_destination()}, \\nDeparture Time: {self.flight.get_departure_time()} \\nAirline: {self.flight.get_airline()} \\nDeparture Date: {self.flight.get_departure_date()}\\nSeat: {self.seat.get_seat_number()} \\nClass: {self.seat.get_seat_class()}\"\n"
   ]
  },
  {
   "cell_type": "markdown",
   "id": "e2e4fc3e",
   "metadata": {},
   "source": [
    "# <font color=blue>Making object 1"
   ]
  },
  {
   "cell_type": "code",
   "execution_count": 5,
   "id": "1f5b6e8e",
   "metadata": {},
   "outputs": [
    {
     "name": "stdout",
     "output_type": "stream",
     "text": [
      "Boarding Pass:\n",
      "\n",
      "Customer:Abdullah\n",
      "Ticket Number: 00112233\n",
      "Flight\t: FL786 \n",
      "Destination: Dubai, \n",
      "Departure Time: 10:00 AM \n",
      "Airline: Emirate \n",
      "Departure Date: 26-02-2024\n",
      "Seat: 01A \n",
      "Class: Business\n"
     ]
    }
   ],
   "source": [
    "# making object1\n",
    "flight_1 = Flight(\"FL786\", \"Dubai\", \"10:00 AM\", \"Emirate\", \"26-02-2024\")\n",
    "customer_1 = Customer(\"Abdullah\", \"00112233\")\n",
    "seat_1 = Seat(\"01A\", \"Business\")\n",
    "\n",
    "# boarding pass\n",
    "boarding_pass = BoardingPass(customer_1, flight_1, seat_1)\n",
    "print(boarding_pass.display_boarding_pass_details())\n"
   ]
  },
  {
   "cell_type": "markdown",
   "id": "4ba6ed64",
   "metadata": {},
   "source": [
    "# <font color=blue>Making Object 2"
   ]
  },
  {
   "cell_type": "code",
   "execution_count": 6,
   "id": "db7024c8",
   "metadata": {},
   "outputs": [
    {
     "name": "stdout",
     "output_type": "stream",
     "text": [
      "Boarding Pass:\n",
      "\n",
      "Customer:Ali\n",
      "Ticket Number: 001121153\n",
      "Flight\t: FL001 \n",
      "Destination: Dubai, \n",
      "Departure Time: 03:00 PM \n",
      "Airline: Emirate \n",
      "Departure Date: 26-02-2024\n",
      "Seat: 02B \n",
      "Class: Economy\n"
     ]
    }
   ],
   "source": [
    "# making object2\n",
    "flight_2 = Flight(\"FL001\", \"Dubai\", \"03:00 PM\", \"Emirate\", \"26-02-2024\")\n",
    "customer_2 = Customer(\"Ali\", \"001121153\")\n",
    "seat_2 = Seat(\"02B\", \"Economy\")\n",
    "\n",
    "# boarding pass\n",
    "boarding_pass = BoardingPass(customer_2, flight_2, seat_2)\n",
    "print(boarding_pass.display_boarding_pass_details())\n"
   ]
  }
 ],
 "metadata": {
  "kernelspec": {
   "display_name": "Python 3 (ipykernel)",
   "language": "python",
   "name": "python3"
  },
  "language_info": {
   "codemirror_mode": {
    "name": "ipython",
    "version": 3
   },
   "file_extension": ".py",
   "mimetype": "text/x-python",
   "name": "python",
   "nbconvert_exporter": "python",
   "pygments_lexer": "ipython3",
   "version": "3.9.13"
  }
 },
 "nbformat": 4,
 "nbformat_minor": 5
}
