{
 "cells": [
  {
   "cell_type": "code",
   "execution_count": null,
   "metadata": {},
   "outputs": [],
   "source": [
    "class Customer:\n",
    "    def __init__(self, name, ticket_number):\n",
    "        self.name = name\n",
    "        self.ticket_number = ticket_number\n",
    "\n",
    "    def set_name(self, name):\n",
    "        self.name = name\n",
    "\n",
    "    def get_name(self):\n",
    "        return self.name\n",
    "\n",
    "    def set_ticket_number(self, ticket_number):\n",
    "        self.ticket_number = ticket_number\n",
    "\n",
    "    def get_ticket_number(self):\n",
    "        return self.ticket_number"
   ]
  }
 ],
 "metadata": {
  "language_info": {
   "name": "python"
  }
 },
 "nbformat": 4,
 "nbformat_minor": 2
}
